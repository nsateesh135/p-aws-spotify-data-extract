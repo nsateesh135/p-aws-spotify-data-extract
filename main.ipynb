{
 "cells": [
  {
   "cell_type": "code",
   "execution_count": 50,
   "metadata": {},
   "outputs": [],
   "source": [
    "#Import required packages\n",
    "import configurations as config\n",
    "import spotipy\n",
    "from spotipy.oauth2 import SpotifyClientCredentials\n",
    "import pandas as pd"
   ]
  },
  {
   "cell_type": "code",
   "execution_count": null,
   "metadata": {},
   "outputs": [],
   "source": [
    "SPOTIFY_APP_NAME = config.SPOTIFY_APP_NAME\n",
    "SPOTIPY_CLIENT_ID = config.SPOTIFY_CLIENT_ID\n",
    "SPOTIPY_CLIENT_SECRET = config.SPOTIFY_CLIENT_SECRET\n",
    "spotify_top_50_songs = f\"https://open.spotify.com/playlist/{config.SPOTIFY_TOP_50_SONGS_URL}?si=1333723a6eff4b7f\" "
   ]
  },
  {
   "cell_type": "code",
   "execution_count": 28,
   "metadata": {},
   "outputs": [],
   "source": [
    "def authenticate_spotify_api(client_id,client_secret):\n",
    "    \"\"\"\n",
    "    This function is used to authenticate sptify API\n",
    "    Args : \n",
    "    client_id : Obtained from the Spotify App \n",
    "    client_secret : Obtained from the Spotify App \n",
    "    Output:\n",
    "    sp : spotify client used to interact with the API\n",
    "    \"\"\"\n",
    "    try:\n",
    "        client_credentials_manager = SpotifyClientCredentials(SPOTIPY_CLIENT_ID,SPOTIPY_CLIENT_SECRET)\n",
    "        sp = spotipy.Spotify(client_credentials_manager=client_credentials_manager)\n",
    "        return sp\n",
    "    except Exception as e :\n",
    "        print(f\"{SPOTIFY_APP_NAME} : has resulted in the following error {e}\")"
   ]
  },
  {
   "cell_type": "code",
   "execution_count": 47,
   "metadata": {},
   "outputs": [],
   "source": [
    "def main ():\n",
    "    try:\n",
    "        sp = authenticate_spotify_api(client_id = SPOTIPY_CLIENT_ID,client_secret=SPOTIPY_CLIENT_SECRET)\n",
    "        top_50_songs_data = sp.playlist_tracks(spotify_top_50_songs)\n",
    "    except Exception as e : \n",
    "        print(f\"{SPOTIFY_APP_NAME} Error: {e}\")\n",
    "\n",
    "    # Fetch Album Data \n",
    "    album_list = []\n",
    "    for album in top_50_songs_data['items']: \n",
    "        album_id = album['track']['album']['id']\n",
    "        album_name = album['track']['album']['name']\n",
    "        album_release_date = album['track']['album']['release_date']\n",
    "        album_total_tracks = album['track']['album']['total_tracks']\n",
    "        album_url = album['track']['album']['external_urls']['spotify']\n",
    "        album_dict = {'album_id':album_id,'name':album_name,'release_date':album_release_date,'total_tracks':album_total_tracks\n",
    "                    ,'url':album_url}\n",
    "        album_list.append(album_dict)\n",
    "\n",
    "    album_data = pd.DataFrame.from_dict(album_list)\n",
    "    album_data['release_date'] = pd.to_datetime(album_data['release_date'])\n",
    "    album_data.drop_duplicates(subset = 'album_id',inplace=True)\n",
    "\n",
    "    # Fetch Artist Data \n",
    "\n",
    "    artist_list = []\n",
    "    for artist_l1 in top_50_songs_data['items']:\n",
    "        for key,value in artist_l1.items():\n",
    "            if key == \"track\":\n",
    "                for artist in value['artists']:\n",
    "                    artist_dict = {'artist_id':artist['id'],'artist_name':artist['name'],'external_url':artist['href']}\n",
    "                    artist_list.append(artist_dict)\n",
    "\n",
    "    artist_data = pd.DataFrame.from_dict(artist_list)\n",
    "    artist_data.drop_duplicates(subset='artist_id',inplace = True)\n",
    "\n",
    "    # Fetch Songs Data \n",
    "    songs_list = []\n",
    "    for songs in top_50_songs_data['items']:\n",
    "        songs_dict = {'song_id':songs['track']['id'],'song_name':songs['track']['name'],'song_duration':songs['track']['duration_ms'],\n",
    "                    'song_url':songs['track']['external_urls']['spotify'],'song_popularity':songs['track']['popularity'],\n",
    "                    'album_id':songs['track']['album']['id'],\n",
    "                    'artist_id':songs['track']['album']['artists'][0]['id']}\n",
    "        songs_list.append(songs_dict)\n",
    "        \n",
    "    songs_data = pd.DataFrame.from_dict(songs_list)\n",
    "    return album_data,artist_data,songs_data\n",
    "\n",
    "if __name__ == \"__main__\":\n",
    "    main()"
   ]
  }
 ],
 "metadata": {
  "kernelspec": {
   "display_name": "spotify_api_fetch",
   "language": "python",
   "name": "python3"
  },
  "language_info": {
   "codemirror_mode": {
    "name": "ipython",
    "version": 3
   },
   "file_extension": ".py",
   "mimetype": "text/x-python",
   "name": "python",
   "nbconvert_exporter": "python",
   "pygments_lexer": "ipython3",
   "version": "3.12.3"
  }
 },
 "nbformat": 4,
 "nbformat_minor": 2
}
